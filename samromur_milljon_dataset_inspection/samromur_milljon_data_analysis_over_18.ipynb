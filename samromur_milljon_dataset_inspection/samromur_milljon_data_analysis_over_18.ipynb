{
 "cells": [
  {
   "cell_type": "code",
   "execution_count": null,
   "metadata": {},
   "outputs": [],
   "source": [
    "## Install the needed libraries ##\n",
    "%%capture\n",
    "!pip install datasets\n",
    "!pip install matplotlib\n",
    "!pip install pandas"
   ]
  },
  {
   "cell_type": "code",
   "execution_count": null,
   "metadata": {},
   "outputs": [],
   "source": [
    "## Import the needed libraries ##\n",
    "from datasets import load_dataset\n",
    "import pandas as pd\n",
    "import matplotlib.pyplot as plt\n",
    "import matplotlib.image as mpimg"
   ]
  },
  {
   "cell_type": "code",
   "execution_count": null,
   "metadata": {},
   "outputs": [],
   "source": [
    "## Load the datasets from Huggingface ##\n",
    "samromur_milljon = load_dataset(\"language-and-voice-lab/samromur_milljon\", split=\"female_18to49_yrs\")\n",
    "\n",
    "# Female speakers from 18 to 49 years old (18 <= n <=49): female_18to49_yrs \n",
    "\n",
    "# Female speakers greater than 49 years old (n > 49): female_gt_49_yrs \n",
    "\n",
    "# Male speakers from 18 to 49 years old (18 <= n <=49): male_18to49_yrs \n",
    "\n",
    "# Male speakers greater than 49 years old (n > 49): male_gt_49_yrs "
   ]
  },
  {
   "cell_type": "code",
   "execution_count": null,
   "metadata": {},
   "outputs": [],
   "source": [
    "## Check the column names and the number of rows ##\n",
    "samromur_milljon"
   ]
  },
  {
   "cell_type": "code",
   "execution_count": null,
   "metadata": {},
   "outputs": [],
   "source": [
    "## Create a Pandas DataFrame and only include the needed variables which are 'age' and 'duration' ##\n",
    "df = pd.DataFrame({\n",
    "    'age': [entry['age'] for entry in samromur_milljon],\n",
    "    'duration': [entry['duration'] for entry in samromur_milljon]\n",
    "})\n",
    "\n",
    "## Convert 'duration' to floats ##\n",
    "df['duration'] = df['duration'].astype(float)\n"
   ]
  },
  {
   "cell_type": "code",
   "execution_count": null,
   "metadata": {},
   "outputs": [],
   "source": [
    "## A few recordings had an age value of '21'. They were therefore added to the '20-29' column ##\n",
    "df['age'] = df['age'].replace('21', '20-29')\n",
    "\n",
    "## Now, get the value counts of ages and sort by the age index ##\n",
    "age_counts = df['age'].value_counts().sort_index()\n",
    "\n",
    "## Calculate the percentage of recordings for each age group column ##\n",
    "total_recordings = age_counts.sum()\n",
    "percentages = (age_counts / total_recordings * 100).round(2)\n",
    "\n",
    "## Plot a bar chart with ages in ascending order ##\n",
    "plt.figure(figsize=(10, 6))\n",
    "ax = age_counts.plot(kind='bar', edgecolor='black')\n",
    "plt.title('Count of Recordings by Age - Male speakers over 49 years old')\n",
    "plt.xlabel('Age')\n",
    "plt.ylabel('Count of Recordings')\n",
    "plt.grid(axis='y')\n",
    "\n",
    "## Set the maximum of the y-axis to 180,000 ##\n",
    "ax.set_ylim(0, 180000)\n",
    "\n",
    "## Rotate the x-axis labels for better readability ##\n",
    "plt.xticks(rotation=45)\n",
    "\n",
    "## Add labels to the bars with count and percentage values, placing percentage directly above the bar ##\n",
    "for i, count in enumerate(age_counts):\n",
    "    percentage = percentages[i]\n",
    "    ## Place the percentage just above the bar ##\n",
    "    percentage_height = count + 0.01 * max(ax.get_ylim())\n",
    "    plt.text(i, percentage_height, f\"({percentage}%)\", ha='center', va='bottom')\n",
    "    ## Place the count above the percentage ##\n",
    "    count_height = percentage_height + 0.04 * max(ax.get_ylim())\n",
    "    plt.text(i, count_height, f\"{count}\", ha='center', va='bottom')\n",
    "\n",
    "plt.show()"
   ]
  },
  {
   "cell_type": "code",
   "execution_count": null,
   "metadata": {},
   "outputs": [],
   "source": [
    "## Define the columns for the duration in seconds. Recordings over 8 seconds are grouped together ##\n",
    "columns = [0, 1, 2, 3, 4, 5, 6, 7, 8]\n",
    "\n",
    "# Group the columns together by duration, for example one is 0-1 seconds, another is 1-2 seconds up to 8 seconds. All recordings over 8 seconds are grouped together ##\n",
    "df['duration_bin'] = pd.cut(df['duration'], columns + [float('inf')], right=False, labels=[\"0-1\", \"1-2\", \"2-3\", \"3-4\", \"4-5\", \"5-6\", \"6-7\", \"7-8\", \"8+\"])\n",
    "\n",
    "## Count the number of recordings for each duration column ##\n",
    "duration_counts = df['duration_bin'].value_counts(sort=False)\n",
    "\n",
    "## Calculate the percentage of recordings for each duration column ##\n",
    "total_recordings = duration_counts.sum()\n",
    "percentages = (duration_counts / total_recordings * 100).round(2)\n",
    "\n",
    "## Plot the results as a bar chart ##\n",
    "plt.figure(figsize=(10, 6))\n",
    "ax = duration_counts.plot(kind='bar', edgecolor='black')  # Add a color for better visualization\n",
    "plt.title('Count of Recordings by Duration (in seconds) - Male speakers over 49 years old')\n",
    "plt.xlabel('Duration (seconds)')\n",
    "plt.ylabel('Count of Recordings')\n",
    "plt.xticks(rotation=0)  # Rotate x-axis labels for better readability\n",
    "\n",
    "\n",
    "## Set the maximum of the y-axis to 120,000 ##\n",
    "ax.set_ylim(0, 120000)\n",
    "\n",
    "## Add labels to the bars with count and percentage values, placing percentage directly above the bar ##\n",
    "for i, count in enumerate(duration_counts):\n",
    "    percentage = percentages[i]\n",
    "    ## Place the percentage value just above the bar ##\n",
    "    percentage_height = count + 0.01 * max(ax.get_ylim())\n",
    "    plt.text(i, percentage_height, f\"({percentage}%)\", ha='center', va='bottom')\n",
    "    ## Place the total count value above the percentage value ##\n",
    "    count_height = percentage_height + 0.04 * max(ax.get_ylim())\n",
    "    plt.text(i, count_height, f\"{count}\", ha='center', va='bottom')\n",
    "\n",
    "plt.show()"
   ]
  },
  {
   "cell_type": "code",
   "execution_count": null,
   "metadata": {},
   "outputs": [],
   "source": [
    "## Below, two graphs are merged together for better comparison and visualization. These graphs compare the structure of the datasets between the same age group but different genders ##\n",
    "\n",
    "## Path to the graphs that are to be merged ##\n",
    "graph_path_female = r'path_to_graph_female'\n",
    "graph_path_male = r'path_to_graph_male'\n",
    "\n",
    "## Load the graphs ##\n",
    "graph_female = mpimg.imread(graph_path_female)\n",
    "graph_male = mpimg.imread(graph_path_male)\n",
    "\n",
    "## Create a figure and a 1x2 grid of subplots ##\n",
    "fig, axs = plt.subplots(2, 1, figsize=(15, 6))\n",
    "\n",
    "## Display the graphs ##\n",
    "axs[0].imshow(graph_female)\n",
    "axs[0].axis('off')\n",
    "\n",
    "axs[1].imshow(graph_male)\n",
    "axs[1].axis('off')\n",
    "\n",
    "plt.tight_layout()  # Adjust layout to not overlap\n",
    "plt.show()\n"
   ]
  }
 ],
 "metadata": {
  "kernelspec": {
   "display_name": "Python 3.9.2 64-bit",
   "language": "python",
   "name": "python3"
  },
  "language_info": {
   "codemirror_mode": {
    "name": "ipython",
    "version": 3
   },
   "file_extension": ".py",
   "mimetype": "text/x-python",
   "name": "python",
   "nbconvert_exporter": "python",
   "pygments_lexer": "ipython3",
   "version": "3.11.9"
  },
  "orig_nbformat": 4,
  "vscode": {
   "interpreter": {
    "hash": "31f2aee4e71d21fbe5cf8b01ff0e069b9275f58929596ceb00d14d90e3e16cd6"
   }
  }
 },
 "nbformat": 4,
 "nbformat_minor": 2
}
